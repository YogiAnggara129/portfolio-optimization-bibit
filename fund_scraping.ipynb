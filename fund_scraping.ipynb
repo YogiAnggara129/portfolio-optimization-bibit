{
 "cells": [
  {
   "cell_type": "markdown",
   "metadata": {},
   "source": [
    "# Get API Response\n",
    "Repository: https://github.com/risan/bibit-reksadana"
   ]
  },
  {
   "cell_type": "code",
   "execution_count": 5,
   "metadata": {},
   "outputs": [
    {
     "name": "stdout",
     "output_type": "stream",
     "text": [
      "{'id': 13, 'symbol': 'RD13', 'name': 'ABF Indonesia Bond Index Fund', 'type': 'Obligasi', 'profile': '', 'tradeable': 1, 'notbuyable': 0, 'status': 1, 'dividend_date': None, 'robocategory': 'fixincome', 'bank_redeem': {'id': 38, 'name': 'HSBC INDONESIA', 'color': '#EF241C'}, 'currency_exchange': {'exchange_rate': 1, 'currency': 'IDR'}, 'is_has_dividend': False, 'min_asset': 1000000, 'minbuy': 1000000, 'minsell': 1000000, 'executive': {}, 'fee': {'subscription': {'value': 0, 'type': 'percent'}, 'redemption': {'value': 0, 'type': 'percent'}, 'transfer': {'value': 0, 'type': 'percent', 'currency': 'IDR'}}, 'asset': [{'name': 'Obligasi', 'percentage': 100}, {'name': 'Saham', 'percentage': 0}, {'name': 'Likuiditas', 'percentage': 0}], 'holding': [{'symbol': None, 'name': 'FR0078', 'annualDividend': 0, 'date': '2022-05-31'}, {'symbol': None, 'name': 'FR0087', 'annualDividend': 0, 'date': '2022-05-31'}, {'symbol': None, 'name': 'FR0068', 'annualDividend': 0, 'date': '2022-05-31'}, {'symbol': None, 'name': 'FR0059', 'annualDividend': 0, 'date': '2022-05-31'}, {'symbol': None, 'name': 'FR0056', 'annualDividend': 0, 'date': '2022-05-31'}, {'symbol': None, 'name': 'FR0082', 'annualDividend': 0, 'date': '2022-05-31'}, {'symbol': None, 'name': 'FR0086', 'annualDividend': 0, 'date': '2022-05-31'}, {'symbol': None, 'name': 'FR0081', 'annualDividend': 0, 'date': '2022-05-31'}, {'symbol': None, 'name': 'FR0083', 'annualDividend': 0, 'date': '2022-05-31'}, {'symbol': None, 'name': 'FR0070', 'annualDividend': 0, 'date': '2022-05-31'}], 'bank': [{'bank': 'BCA', 'id': 31, 'account': '4587484098', 'name': 'Reksa Dana Indeks ABF Indonesia Bond Index Fund'}], 'exitload': [], 'investment_manager': {'name': 'Bahana TCW Investment Management, PT', 'ojkCode': 'DX002', 'telepon': '+62 21 2505277', 'fax': '+62 21 2505279', 'email': 'sinar@bahana.co.id', 'url': 'www.sinar.bahanatcw.com'}, 'custodian_bank': {'name': 'HSBC INDONESIA', 'ojkCode': 'HSBC1'}, 'sharia': False, 'etf': True, 'index': True, 'is_instant_redemption': False, 'aum': {'value': 4976394292409, 'date': '2022-04-01'}, 'shareholders': [], 'expenseratio': {'percentage': 0.0021}, 'cagr': {'1y': 0.027228037888962664, '3y': 0.08665559845561677, '5y': 0.06910619640882198, '10y': 0.06663223972803856, 'all': 0.08842141884918764}, 'cagr_adjusted': {'1y': 0.027228037888962664, '3y': 0.08665559845561677, '5y': 0.06910619640882198, '10y': 0.06663223972803856, 'all': 0.08845634469372343}, 'simplereturn': {'1d': 0.0048012183863375135, '1m': 0.00403942853152417, '3m': -0.013928319552163781, 'ytd': -0.01102023810688213, '1y': 0.027228037888962664, '3y': 0.2831450871890777, '5y': 0.3967035383061508, '10y': 0.9061060687739935, 'all': 2.40878744721347}, 'changesvalue': {'1d': 223.01610000000073, '1m': 187.7734000000055, '3m': -659.2575999999972, 'ytd': -520.0779999999941, '1y': 1237.1273, '3y': 10299.073900000003, '5y': 13256.435100000002, '10y': 22186.913200000003, 'all': 32980.9732}, 'nav': {'date': '2022-06-03', 'value': 46672.9132}, 'riskprofile': 'Moderate', 'maxdrawdown': {'1y': -0.04352614386495168, '3y': -0.08500568958456078, '5y': -0.09618645836821305, '10y': -0.1650636557262417, 'all': -0.2760120415115265}, 'changesvalueaum': {'1m': 4992884618074, '3m': 4953125786063, '6m': 4955070537317, 'ytd': 4953125786063, '1y': 4473365354447, '3y': 4195048340258, '5y': 4071346297048, '10y': 4071346297048, 'all': 4071346297048}}\n"
     ]
    }
   ],
   "source": [
    "from urllib.request import urlopen\n",
    "import json\n",
    "\n",
    "url = \"https://bibit-reksadana.vercel.app/api?buy_from_bibit=true&per_page=10000\"\n",
    "response = urlopen(url)\n",
    "data_json = json.loads(response.read())\n",
    "bibit_fund = data_json['data']\n",
    "print(bibit_fund[0])"
   ]
  },
  {
   "cell_type": "markdown",
   "metadata": {},
   "source": [
    "# Save JSON Response as CSV"
   ]
  },
  {
   "cell_type": "code",
   "execution_count": 6,
   "metadata": {},
   "outputs": [
    {
     "data": {
      "text/html": [
       "<div>\n",
       "<style scoped>\n",
       "    .dataframe tbody tr th:only-of-type {\n",
       "        vertical-align: middle;\n",
       "    }\n",
       "\n",
       "    .dataframe tbody tr th {\n",
       "        vertical-align: top;\n",
       "    }\n",
       "\n",
       "    .dataframe thead th {\n",
       "        text-align: right;\n",
       "    }\n",
       "</style>\n",
       "<table border=\"1\" class=\"dataframe\">\n",
       "  <thead>\n",
       "    <tr style=\"text-align: right;\">\n",
       "      <th></th>\n",
       "      <th>id</th>\n",
       "      <th>symbol</th>\n",
       "      <th>name</th>\n",
       "      <th>type</th>\n",
       "      <th>profile</th>\n",
       "      <th>tradeable</th>\n",
       "      <th>notbuyable</th>\n",
       "      <th>status</th>\n",
       "      <th>dividend_date</th>\n",
       "      <th>robocategory</th>\n",
       "      <th>...</th>\n",
       "      <th>shareholders</th>\n",
       "      <th>expenseratio</th>\n",
       "      <th>cagr</th>\n",
       "      <th>cagr_adjusted</th>\n",
       "      <th>simplereturn</th>\n",
       "      <th>changesvalue</th>\n",
       "      <th>nav</th>\n",
       "      <th>riskprofile</th>\n",
       "      <th>maxdrawdown</th>\n",
       "      <th>changesvalueaum</th>\n",
       "    </tr>\n",
       "  </thead>\n",
       "  <tbody>\n",
       "    <tr>\n",
       "      <th>0</th>\n",
       "      <td>13</td>\n",
       "      <td>RD13</td>\n",
       "      <td>ABF Indonesia Bond Index Fund</td>\n",
       "      <td>Obligasi</td>\n",
       "      <td></td>\n",
       "      <td>1</td>\n",
       "      <td>0</td>\n",
       "      <td>1</td>\n",
       "      <td>None</td>\n",
       "      <td>fixincome</td>\n",
       "      <td>...</td>\n",
       "      <td>[]</td>\n",
       "      <td>{'percentage': 0.0021}</td>\n",
       "      <td>{'1y': 0.027228037888962664, '3y': 0.086655598...</td>\n",
       "      <td>{'1y': 0.027228037888962664, '3y': 0.086655598...</td>\n",
       "      <td>{'1d': 0.0048012183863375135, '1m': 0.00403942...</td>\n",
       "      <td>{'1d': 223.01610000000073, '1m': 187.773400000...</td>\n",
       "      <td>{'date': '2022-06-03', 'value': 46672.9132}</td>\n",
       "      <td>Moderate</td>\n",
       "      <td>{'1y': -0.04352614386495168, '3y': -0.08500568...</td>\n",
       "      <td>{'1m': 4992884618074, '3m': 4953125786063, '6m...</td>\n",
       "    </tr>\n",
       "    <tr>\n",
       "      <th>1</th>\n",
       "      <td>66</td>\n",
       "      <td>RD66</td>\n",
       "      <td>Avrist Ada Kas Mutiara</td>\n",
       "      <td>Pasar Uang</td>\n",
       "      <td></td>\n",
       "      <td>1</td>\n",
       "      <td>0</td>\n",
       "      <td>1</td>\n",
       "      <td>None</td>\n",
       "      <td>moneymarket</td>\n",
       "      <td>...</td>\n",
       "      <td>[]</td>\n",
       "      <td>{'percentage': 0.0028}</td>\n",
       "      <td>{'1y': 0.028056934894332475, '3y': 0.045806252...</td>\n",
       "      <td>{'1y': 0.028056934894332475, '3y': 0.045806252...</td>\n",
       "      <td>{'1d': 6.143591082574673e-05, '1m': 0.00249420...</td>\n",
       "      <td>{'1d': 0.07999999999992724, '1m': 3.2400000000...</td>\n",
       "      <td>{'date': '2022-06-03', 'value': 1302.25}</td>\n",
       "      <td>Low</td>\n",
       "      <td>{'1y': -0.0003239116184012847, '3y': -0.000323...</td>\n",
       "      <td>{'1m': 55580217795.93, '3m': 350715170552.64, ...</td>\n",
       "    </tr>\n",
       "    <tr>\n",
       "      <th>2</th>\n",
       "      <td>68</td>\n",
       "      <td>RD68</td>\n",
       "      <td>Avrist Ada Saham Blue Safir</td>\n",
       "      <td>Saham</td>\n",
       "      <td></td>\n",
       "      <td>1</td>\n",
       "      <td>0</td>\n",
       "      <td>1</td>\n",
       "      <td>None</td>\n",
       "      <td>equity</td>\n",
       "      <td>...</td>\n",
       "      <td>[]</td>\n",
       "      <td>{'percentage': 0.015}</td>\n",
       "      <td>{'1y': 0.1635519299723629, '3y': 0.03303776255...</td>\n",
       "      <td>{'1y': 0.1635519299723629, '3y': 0.03303776255...</td>\n",
       "      <td>{'1d': 0.003757932428120725, '1m': -0.02918813...</td>\n",
       "      <td>{'1d': 4.240000000000009, '1m': -34.0499999999...</td>\n",
       "      <td>{'date': '2022-06-03', 'value': 1132.52}</td>\n",
       "      <td>High</td>\n",
       "      <td>{'1y': -0.08762701242127546, '3y': -0.43908263...</td>\n",
       "      <td>{'1m': 499653110552.48, '3m': 460348988321.78,...</td>\n",
       "    </tr>\n",
       "    <tr>\n",
       "      <th>3</th>\n",
       "      <td>70</td>\n",
       "      <td>RD70</td>\n",
       "      <td>Avrist Balanced Amar Syariah</td>\n",
       "      <td>Campuran</td>\n",
       "      <td></td>\n",
       "      <td>1</td>\n",
       "      <td>0</td>\n",
       "      <td>1</td>\n",
       "      <td>None</td>\n",
       "      <td>NaN</td>\n",
       "      <td>...</td>\n",
       "      <td>[]</td>\n",
       "      <td>{'percentage': 0.009}</td>\n",
       "      <td>{'1y': 0.06965044669962728, '3y': 0.0290139810...</td>\n",
       "      <td>{'1y': 0.06965044669962728, '3y': 0.0290139810...</td>\n",
       "      <td>{'1d': 0.0022304295608672753, '1m': 0.01161200...</td>\n",
       "      <td>{'1d': 2.4700000000000273, '1m': 12.7400000000...</td>\n",
       "      <td>{'date': '2022-06-03', 'value': 1109.88}</td>\n",
       "      <td>Moderate</td>\n",
       "      <td>{'1y': -0.04161486492998323, '3y': -0.23079420...</td>\n",
       "      <td>{'1m': 21852350966.98, '3m': 21657353848.26, '...</td>\n",
       "    </tr>\n",
       "    <tr>\n",
       "      <th>4</th>\n",
       "      <td>82</td>\n",
       "      <td>RD82</td>\n",
       "      <td>Avrist IDX30</td>\n",
       "      <td>Saham</td>\n",
       "      <td></td>\n",
       "      <td>1</td>\n",
       "      <td>0</td>\n",
       "      <td>1</td>\n",
       "      <td>None</td>\n",
       "      <td>equity</td>\n",
       "      <td>...</td>\n",
       "      <td>[]</td>\n",
       "      <td>{'percentage': 0.0149}</td>\n",
       "      <td>{'1y': 0.1502748999096677, '3y': 0.02287018054...</td>\n",
       "      <td>{'1y': 0.1502748999096677, '3y': 0.02287018054...</td>\n",
       "      <td>{'1d': 0.0037075601140488246, '1m': -0.0398153...</td>\n",
       "      <td>{'1d': 3.8099999999999454, '1m': -42.769999999...</td>\n",
       "      <td>{'date': '2022-06-03', 'value': 1031.44}</td>\n",
       "      <td>High</td>\n",
       "      <td>{'1y': -0.09903088023731732, '3y': -0.44294340...</td>\n",
       "      <td>{'1m': 214128455294.59, '3m': 191798011230.95,...</td>\n",
       "    </tr>\n",
       "  </tbody>\n",
       "</table>\n",
       "<p>5 rows × 39 columns</p>\n",
       "</div>"
      ],
      "text/plain": [
       "   id symbol                           name        type profile  tradeable  \\\n",
       "0  13   RD13  ABF Indonesia Bond Index Fund    Obligasi                  1   \n",
       "1  66   RD66         Avrist Ada Kas Mutiara  Pasar Uang                  1   \n",
       "2  68   RD68    Avrist Ada Saham Blue Safir       Saham                  1   \n",
       "3  70   RD70   Avrist Balanced Amar Syariah    Campuran                  1   \n",
       "4  82   RD82                   Avrist IDX30       Saham                  1   \n",
       "\n",
       "   notbuyable  status dividend_date robocategory  ... shareholders  \\\n",
       "0           0       1          None    fixincome  ...           []   \n",
       "1           0       1          None  moneymarket  ...           []   \n",
       "2           0       1          None       equity  ...           []   \n",
       "3           0       1          None          NaN  ...           []   \n",
       "4           0       1          None       equity  ...           []   \n",
       "\n",
       "             expenseratio                                               cagr  \\\n",
       "0  {'percentage': 0.0021}  {'1y': 0.027228037888962664, '3y': 0.086655598...   \n",
       "1  {'percentage': 0.0028}  {'1y': 0.028056934894332475, '3y': 0.045806252...   \n",
       "2   {'percentage': 0.015}  {'1y': 0.1635519299723629, '3y': 0.03303776255...   \n",
       "3   {'percentage': 0.009}  {'1y': 0.06965044669962728, '3y': 0.0290139810...   \n",
       "4  {'percentage': 0.0149}  {'1y': 0.1502748999096677, '3y': 0.02287018054...   \n",
       "\n",
       "                                       cagr_adjusted  \\\n",
       "0  {'1y': 0.027228037888962664, '3y': 0.086655598...   \n",
       "1  {'1y': 0.028056934894332475, '3y': 0.045806252...   \n",
       "2  {'1y': 0.1635519299723629, '3y': 0.03303776255...   \n",
       "3  {'1y': 0.06965044669962728, '3y': 0.0290139810...   \n",
       "4  {'1y': 0.1502748999096677, '3y': 0.02287018054...   \n",
       "\n",
       "                                        simplereturn  \\\n",
       "0  {'1d': 0.0048012183863375135, '1m': 0.00403942...   \n",
       "1  {'1d': 6.143591082574673e-05, '1m': 0.00249420...   \n",
       "2  {'1d': 0.003757932428120725, '1m': -0.02918813...   \n",
       "3  {'1d': 0.0022304295608672753, '1m': 0.01161200...   \n",
       "4  {'1d': 0.0037075601140488246, '1m': -0.0398153...   \n",
       "\n",
       "                                        changesvalue  \\\n",
       "0  {'1d': 223.01610000000073, '1m': 187.773400000...   \n",
       "1  {'1d': 0.07999999999992724, '1m': 3.2400000000...   \n",
       "2  {'1d': 4.240000000000009, '1m': -34.0499999999...   \n",
       "3  {'1d': 2.4700000000000273, '1m': 12.7400000000...   \n",
       "4  {'1d': 3.8099999999999454, '1m': -42.769999999...   \n",
       "\n",
       "                                           nav riskprofile  \\\n",
       "0  {'date': '2022-06-03', 'value': 46672.9132}    Moderate   \n",
       "1     {'date': '2022-06-03', 'value': 1302.25}         Low   \n",
       "2     {'date': '2022-06-03', 'value': 1132.52}        High   \n",
       "3     {'date': '2022-06-03', 'value': 1109.88}    Moderate   \n",
       "4     {'date': '2022-06-03', 'value': 1031.44}        High   \n",
       "\n",
       "                                         maxdrawdown  \\\n",
       "0  {'1y': -0.04352614386495168, '3y': -0.08500568...   \n",
       "1  {'1y': -0.0003239116184012847, '3y': -0.000323...   \n",
       "2  {'1y': -0.08762701242127546, '3y': -0.43908263...   \n",
       "3  {'1y': -0.04161486492998323, '3y': -0.23079420...   \n",
       "4  {'1y': -0.09903088023731732, '3y': -0.44294340...   \n",
       "\n",
       "                                     changesvalueaum  \n",
       "0  {'1m': 4992884618074, '3m': 4953125786063, '6m...  \n",
       "1  {'1m': 55580217795.93, '3m': 350715170552.64, ...  \n",
       "2  {'1m': 499653110552.48, '3m': 460348988321.78,...  \n",
       "3  {'1m': 21852350966.98, '3m': 21657353848.26, '...  \n",
       "4  {'1m': 214128455294.59, '3m': 191798011230.95,...  \n",
       "\n",
       "[5 rows x 39 columns]"
      ]
     },
     "execution_count": 6,
     "metadata": {},
     "output_type": "execute_result"
    }
   ],
   "source": [
    "import pandas as pd\n",
    "\n",
    "df_bibit_fund_desc = pd.DataFrame(bibit_fund)\n",
    "df_bibit_fund_desc.to_csv('data/fund_desc_in_bibit.csv', index=False)\n",
    "df_bibit_fund_desc.head()"
   ]
  },
  {
   "cell_type": "markdown",
   "metadata": {},
   "source": [
    "# Scraping NAV Fund History\n",
    "https://sites.google.com/chromium.org/driver/\n",
    "\n",
    "https://www.pasardana.id/fund/search"
   ]
  },
  {
   "cell_type": "markdown",
   "metadata": {},
   "source": [
    "## Prepare Web Driver"
   ]
  },
  {
   "cell_type": "code",
   "execution_count": 2,
   "metadata": {},
   "outputs": [
    {
     "name": "stderr",
     "output_type": "stream",
     "text": [
      "C:\\Users\\Asus\\AppData\\Local\\Temp\\ipykernel_19700\\431741424.py:5: DeprecationWarning: executable_path has been deprecated, please pass in a Service object\n",
      "  driver = webdriver.Chrome('driver/chromedriver.exe')\n"
     ]
    }
   ],
   "source": [
    "from selenium import webdriver\n",
    "from selenium.webdriver.common.keys import Keys\n",
    "from selenium.webdriver.common.by import By\n",
    "\n",
    "driver = webdriver.Chrome('driver/chromedriver.exe')\n",
    "\n"
   ]
  },
  {
   "cell_type": "markdown",
   "metadata": {},
   "source": [
    "## Login to pasardana.id"
   ]
  },
  {
   "cell_type": "code",
   "execution_count": 18,
   "metadata": {},
   "outputs": [],
   "source": [
    "with open('data/user_pasardana.json') as f:\n",
    "    user_pasardana = json.load(f)\n",
    "\n",
    "driver.get('https://www.pasardana.id/login')\n",
    "driver.find_element(\n",
    "    by=By.XPATH, value='//*[@id=\"EmailAddress\"]').send_keys(user_pasardana['email'])\n",
    "driver.find_element(\n",
    "    by=By.XPATH, value='//*[@id=\"Password\"]').send_keys(user_pasardana['password'])\n",
    "driver.find_element(\n",
    "    by=By.XPATH, value='/html/body/div/main/div/div/div/section/form/div[4]/div/button').click()\n"
   ]
  },
  {
   "cell_type": "markdown",
   "metadata": {},
   "source": [
    "## Scraping NAV History"
   ]
  },
  {
   "cell_type": "code",
   "execution_count": 51,
   "metadata": {},
   "outputs": [
    {
     "name": "stdout",
     "output_type": "stream",
     "text": [
      "ABF Indonesia Bond Index Fund\n"
     ]
    },
    {
     "ename": "ElementClickInterceptedException",
     "evalue": "Message: element click intercepted: Element <a href=\"return/55?date=\" role=\"tab\" data-toggle=\"tab\" ng-click=\"SnapshotCtrl.changeTab('site.mutualfund.return'); SnapshotCtrl.load...(); $event.preventDefault()\">Return</a> is not clickable at point (165, 21). Other element would receive the click: <header class=\"SiteHeader\">...</header>\n  (Session info: chrome=102.0.5005.63)\nStacktrace:\nBacktrace:\n\tOrdinal0 [0x010CD953+2414931]\n\tOrdinal0 [0x0105F5E1+1963489]\n\tOrdinal0 [0x00F4C6B8+837304]\n\tOrdinal0 [0x00F7FC27+1047591]\n\tOrdinal0 [0x00F7DC08+1039368]\n\tOrdinal0 [0x00F7B90B+1030411]\n\tOrdinal0 [0x00F7A659+1025625]\n\tOrdinal0 [0x00F70293+983699]\n\tOrdinal0 [0x00F9449C+1131676]\n\tOrdinal0 [0x00F6FC74+982132]\n\tOrdinal0 [0x00F946B4+1132212]\n\tOrdinal0 [0x00FA4812+1198098]\n\tOrdinal0 [0x00F942B6+1131190]\n\tOrdinal0 [0x00F6E860+976992]\n\tOrdinal0 [0x00F6F756+980822]\n\tGetHandleVerifier [0x0133CC62+2510274]\n\tGetHandleVerifier [0x0132F760+2455744]\n\tGetHandleVerifier [0x0115EABA+551962]\n\tGetHandleVerifier [0x0115D916+547446]\n\tOrdinal0 [0x01065F3B+1990459]\n\tOrdinal0 [0x0106A898+2009240]\n\tOrdinal0 [0x0106A985+2009477]\n\tOrdinal0 [0x01073AD1+2046673]\n\tBaseThreadInitThunk [0x775AFA29+25]\n\tRtlGetAppContainerNamedObjectPath [0x77C57A7E+286]\n\tRtlGetAppContainerNamedObjectPath [0x77C57A4E+238]\n",
     "output_type": "error",
     "traceback": [
      "\u001b[1;31m---------------------------------------------------------------------------\u001b[0m",
      "\u001b[1;31mElementClickInterceptedException\u001b[0m          Traceback (most recent call last)",
      "\u001b[1;32me:\\My Project\\Course\\portofolio-bibit\\fund_scraping.ipynb Cell 8'\u001b[0m in \u001b[0;36m<cell line: 6>\u001b[1;34m()\u001b[0m\n\u001b[0;32m     <a href='vscode-notebook-cell:/e%3A/My%20Project/Course/portofolio-bibit/fund_scraping.ipynb#ch0000014?line=15'>16</a>\u001b[0m time\u001b[39m.\u001b[39msleep(\u001b[39m5\u001b[39m)\n\u001b[0;32m     <a href='vscode-notebook-cell:/e%3A/My%20Project/Course/portofolio-bibit/fund_scraping.ipynb#ch0000014?line=16'>17</a>\u001b[0m \u001b[39m# driver.find_element(by=By.XPATH, value='//*[@class=\"highcharts-container \"]/svg/g[1]/g[10]')[0].click()\u001b[39;00m\n\u001b[1;32m---> <a href='vscode-notebook-cell:/e%3A/My%20Project/Course/portofolio-bibit/fund_scraping.ipynb#ch0000014?line=17'>18</a>\u001b[0m driver\u001b[39m.\u001b[39;49mfind_element(\n\u001b[0;32m     <a href='vscode-notebook-cell:/e%3A/My%20Project/Course/portofolio-bibit/fund_scraping.ipynb#ch0000014?line=18'>19</a>\u001b[0m     by\u001b[39m=\u001b[39;49mBy\u001b[39m.\u001b[39;49mXPATH, value\u001b[39m=\u001b[39;49m\u001b[39m'\u001b[39;49m\u001b[39m//*[@id=\u001b[39;49m\u001b[39m\"\u001b[39;49m\u001b[39msh-sn-tab\u001b[39;49m\u001b[39m\"\u001b[39;49m\u001b[39m]/li[2]/a\u001b[39;49m\u001b[39m'\u001b[39;49m)\u001b[39m.\u001b[39;49mclick()\n",
      "File \u001b[1;32mc:\\ProgramData\\Miniconda3\\lib\\site-packages\\selenium\\webdriver\\remote\\webelement.py:89\u001b[0m, in \u001b[0;36mWebElement.click\u001b[1;34m(self)\u001b[0m\n\u001b[0;32m     <a href='file:///c%3A/ProgramData/Miniconda3/lib/site-packages/selenium/webdriver/remote/webelement.py?line=86'>87</a>\u001b[0m \u001b[39mdef\u001b[39;00m \u001b[39mclick\u001b[39m(\u001b[39mself\u001b[39m) \u001b[39m-\u001b[39m\u001b[39m>\u001b[39m \u001b[39mNone\u001b[39;00m:\n\u001b[0;32m     <a href='file:///c%3A/ProgramData/Miniconda3/lib/site-packages/selenium/webdriver/remote/webelement.py?line=87'>88</a>\u001b[0m     \u001b[39m\"\"\"Clicks the element.\"\"\"\u001b[39;00m\n\u001b[1;32m---> <a href='file:///c%3A/ProgramData/Miniconda3/lib/site-packages/selenium/webdriver/remote/webelement.py?line=88'>89</a>\u001b[0m     \u001b[39mself\u001b[39;49m\u001b[39m.\u001b[39;49m_execute(Command\u001b[39m.\u001b[39;49mCLICK_ELEMENT)\n",
      "File \u001b[1;32mc:\\ProgramData\\Miniconda3\\lib\\site-packages\\selenium\\webdriver\\remote\\webelement.py:773\u001b[0m, in \u001b[0;36mWebElement._execute\u001b[1;34m(self, command, params)\u001b[0m\n\u001b[0;32m    <a href='file:///c%3A/ProgramData/Miniconda3/lib/site-packages/selenium/webdriver/remote/webelement.py?line=770'>771</a>\u001b[0m     params \u001b[39m=\u001b[39m {}\n\u001b[0;32m    <a href='file:///c%3A/ProgramData/Miniconda3/lib/site-packages/selenium/webdriver/remote/webelement.py?line=771'>772</a>\u001b[0m params[\u001b[39m'\u001b[39m\u001b[39mid\u001b[39m\u001b[39m'\u001b[39m] \u001b[39m=\u001b[39m \u001b[39mself\u001b[39m\u001b[39m.\u001b[39m_id\n\u001b[1;32m--> <a href='file:///c%3A/ProgramData/Miniconda3/lib/site-packages/selenium/webdriver/remote/webelement.py?line=772'>773</a>\u001b[0m \u001b[39mreturn\u001b[39;00m \u001b[39mself\u001b[39;49m\u001b[39m.\u001b[39;49m_parent\u001b[39m.\u001b[39;49mexecute(command, params)\n",
      "File \u001b[1;32mc:\\ProgramData\\Miniconda3\\lib\\site-packages\\selenium\\webdriver\\remote\\webdriver.py:430\u001b[0m, in \u001b[0;36mWebDriver.execute\u001b[1;34m(self, driver_command, params)\u001b[0m\n\u001b[0;32m    <a href='file:///c%3A/ProgramData/Miniconda3/lib/site-packages/selenium/webdriver/remote/webdriver.py?line=427'>428</a>\u001b[0m response \u001b[39m=\u001b[39m \u001b[39mself\u001b[39m\u001b[39m.\u001b[39mcommand_executor\u001b[39m.\u001b[39mexecute(driver_command, params)\n\u001b[0;32m    <a href='file:///c%3A/ProgramData/Miniconda3/lib/site-packages/selenium/webdriver/remote/webdriver.py?line=428'>429</a>\u001b[0m \u001b[39mif\u001b[39;00m response:\n\u001b[1;32m--> <a href='file:///c%3A/ProgramData/Miniconda3/lib/site-packages/selenium/webdriver/remote/webdriver.py?line=429'>430</a>\u001b[0m     \u001b[39mself\u001b[39;49m\u001b[39m.\u001b[39;49merror_handler\u001b[39m.\u001b[39;49mcheck_response(response)\n\u001b[0;32m    <a href='file:///c%3A/ProgramData/Miniconda3/lib/site-packages/selenium/webdriver/remote/webdriver.py?line=430'>431</a>\u001b[0m     response[\u001b[39m'\u001b[39m\u001b[39mvalue\u001b[39m\u001b[39m'\u001b[39m] \u001b[39m=\u001b[39m \u001b[39mself\u001b[39m\u001b[39m.\u001b[39m_unwrap_value(\n\u001b[0;32m    <a href='file:///c%3A/ProgramData/Miniconda3/lib/site-packages/selenium/webdriver/remote/webdriver.py?line=431'>432</a>\u001b[0m         response\u001b[39m.\u001b[39mget(\u001b[39m'\u001b[39m\u001b[39mvalue\u001b[39m\u001b[39m'\u001b[39m, \u001b[39mNone\u001b[39;00m))\n\u001b[0;32m    <a href='file:///c%3A/ProgramData/Miniconda3/lib/site-packages/selenium/webdriver/remote/webdriver.py?line=432'>433</a>\u001b[0m     \u001b[39mreturn\u001b[39;00m response\n",
      "File \u001b[1;32mc:\\ProgramData\\Miniconda3\\lib\\site-packages\\selenium\\webdriver\\remote\\errorhandler.py:247\u001b[0m, in \u001b[0;36mErrorHandler.check_response\u001b[1;34m(self, response)\u001b[0m\n\u001b[0;32m    <a href='file:///c%3A/ProgramData/Miniconda3/lib/site-packages/selenium/webdriver/remote/errorhandler.py?line=244'>245</a>\u001b[0m         alert_text \u001b[39m=\u001b[39m value[\u001b[39m'\u001b[39m\u001b[39malert\u001b[39m\u001b[39m'\u001b[39m]\u001b[39m.\u001b[39mget(\u001b[39m'\u001b[39m\u001b[39mtext\u001b[39m\u001b[39m'\u001b[39m)\n\u001b[0;32m    <a href='file:///c%3A/ProgramData/Miniconda3/lib/site-packages/selenium/webdriver/remote/errorhandler.py?line=245'>246</a>\u001b[0m     \u001b[39mraise\u001b[39;00m exception_class(message, screen, stacktrace, alert_text)  \u001b[39m# type: ignore[call-arg]  # mypy is not smart enough here\u001b[39;00m\n\u001b[1;32m--> <a href='file:///c%3A/ProgramData/Miniconda3/lib/site-packages/selenium/webdriver/remote/errorhandler.py?line=246'>247</a>\u001b[0m \u001b[39mraise\u001b[39;00m exception_class(message, screen, stacktrace)\n",
      "\u001b[1;31mElementClickInterceptedException\u001b[0m: Message: element click intercepted: Element <a href=\"return/55?date=\" role=\"tab\" data-toggle=\"tab\" ng-click=\"SnapshotCtrl.changeTab('site.mutualfund.return'); SnapshotCtrl.load...(); $event.preventDefault()\">Return</a> is not clickable at point (165, 21). Other element would receive the click: <header class=\"SiteHeader\">...</header>\n  (Session info: chrome=102.0.5005.63)\nStacktrace:\nBacktrace:\n\tOrdinal0 [0x010CD953+2414931]\n\tOrdinal0 [0x0105F5E1+1963489]\n\tOrdinal0 [0x00F4C6B8+837304]\n\tOrdinal0 [0x00F7FC27+1047591]\n\tOrdinal0 [0x00F7DC08+1039368]\n\tOrdinal0 [0x00F7B90B+1030411]\n\tOrdinal0 [0x00F7A659+1025625]\n\tOrdinal0 [0x00F70293+983699]\n\tOrdinal0 [0x00F9449C+1131676]\n\tOrdinal0 [0x00F6FC74+982132]\n\tOrdinal0 [0x00F946B4+1132212]\n\tOrdinal0 [0x00FA4812+1198098]\n\tOrdinal0 [0x00F942B6+1131190]\n\tOrdinal0 [0x00F6E860+976992]\n\tOrdinal0 [0x00F6F756+980822]\n\tGetHandleVerifier [0x0133CC62+2510274]\n\tGetHandleVerifier [0x0132F760+2455744]\n\tGetHandleVerifier [0x0115EABA+551962]\n\tGetHandleVerifier [0x0115D916+547446]\n\tOrdinal0 [0x01065F3B+1990459]\n\tOrdinal0 [0x0106A898+2009240]\n\tOrdinal0 [0x0106A985+2009477]\n\tOrdinal0 [0x01073AD1+2046673]\n\tBaseThreadInitThunk [0x775AFA29+25]\n\tRtlGetAppContainerNamedObjectPath [0x77C57A7E+286]\n\tRtlGetAppContainerNamedObjectPath [0x77C57A4E+238]\n"
     ]
    }
   ],
   "source": [
    "import time\n",
    "\n",
    "df_bibit_fund_desc = pd.read_csv('data/fund_desc_in_bibit.csv')\n",
    "bibit_fund_name = df_bibit_fund_desc['name']\n",
    "\n",
    "for name in bibit_fund_name:\n",
    "    # go to search fund path\n",
    "    print(name)\n",
    "    driver.get('https://www.pasardana.id/fund/search')\n",
    "    time.sleep(2)\n",
    "    driver.find_element(\n",
    "        by=By.XPATH, value='/html/body/div/ui-view/ui-view/ui-view/main/div[1]/div/div[2]/div[3]/div[2]/form/div/input').send_keys(name)\n",
    "    time.sleep(2)\n",
    "    driver.find_element(\n",
    "        by=By.XPATH, value='//*[@id=\"jqxWidget\"]/div[4]/div[2]/table/tbody/tr[1]/td[3]/a').click()\n",
    "    time.sleep(5)\n",
    "    # driver.find_element(by=By.XPATH, value='//*[@class=\"highcharts-container \"]/svg/g[1]/g[10]')[0].click()\n",
    "    driver.find_element(\n",
    "        by=By.XPATH, value='//*[@id=\"sh-sn-tab\"]/li[2]/a').click()\n",
    "\n",
    "# //*[@id=\"highcharts-p2g2vf9-2\"]/svg/g[17]/text\n"
   ]
  },
  {
   "cell_type": "code",
   "execution_count": 53,
   "metadata": {},
   "outputs": [],
   "source": [
    "driver.quit()"
   ]
  }
 ],
 "metadata": {
  "interpreter": {
   "hash": "19d1d53a962d236aa061289c2ac16dc8e6d9648c89fe79f459ae9a3493bc67b4"
  },
  "kernelspec": {
   "display_name": "Python 3.8.13 ('base')",
   "language": "python",
   "name": "python3"
  },
  "language_info": {
   "codemirror_mode": {
    "name": "ipython",
    "version": 3
   },
   "file_extension": ".py",
   "mimetype": "text/x-python",
   "name": "python",
   "nbconvert_exporter": "python",
   "pygments_lexer": "ipython3",
   "version": "3.8.13"
  },
  "orig_nbformat": 4
 },
 "nbformat": 4,
 "nbformat_minor": 2
}
